{
  "nbformat": 4,
  "nbformat_minor": 0,
  "metadata": {
    "colab": {
      "name": "spark_test.ipynb",
      "provenance": [],
      "collapsed_sections": []
    },
    "kernelspec": {
      "name": "python3",
      "display_name": "Python 3"
    },
    "language_info": {
      "name": "python"
    }
  },
  "cells": [
    {
      "cell_type": "code",
      "metadata": {
        "colab": {
          "base_uri": "https://localhost:8080/"
        },
        "id": "L7LVx7EIFJ7c",
        "outputId": "06e6089d-19ba-401d-a5dd-ec3e4598d174"
      },
      "source": [
        "from google.colab import drive\n",
        "drive.mount('/content/drive')\n"
      ],
      "execution_count": 1,
      "outputs": [
        {
          "output_type": "stream",
          "name": "stdout",
          "text": [
            "Mounted at /content/drive\n"
          ]
        }
      ]
    },
    {
      "cell_type": "code",
      "metadata": {
        "id": "vqmmA_lGFLvo"
      },
      "source": [
        "!apt-get install openjdk-8-jdk-headless -qq > /dev/null\n",
        "!wget -q https://dlcdn.apache.org/spark/spark-3.2.0/spark-3.2.0-bin-hadoop3.2.tgz\n",
        "!tar xf spark-3.2.0-bin-hadoop3.2.tgz\n",
        "!pip install -q findspark\n",
        "\n"
      ],
      "execution_count": 2,
      "outputs": []
    },
    {
      "cell_type": "code",
      "metadata": {
        "id": "XykYB--jF_uH"
      },
      "source": [
        "import os\n",
        "os.environ[\"JAVA_HOME\"] = \"/usr/lib/jvm/java-8-openjdk-amd64\"\n",
        "os.environ[\"SPARK_HOME\"] = \"/content/spark-3.2.0-bin-hadoop3.2\""
      ],
      "execution_count": 3,
      "outputs": []
    },
    {
      "cell_type": "code",
      "metadata": {
        "id": "neuXyU-FGH0T"
      },
      "source": [
        "import findspark\n",
        "findspark.init()\n",
        "\n",
        "from pyspark.sql import SparkSession\n",
        "\n",
        "spark = SparkSession.builder.master(\"local\").appName(\"Colab\").config('spark.ui.port', '4050')\\\n",
        "        .getOrCreate()"
      ],
      "execution_count": 4,
      "outputs": []
    },
    {
      "cell_type": "code",
      "metadata": {
        "id": "Our2-KAvmNUz",
        "colab": {
          "base_uri": "https://localhost:8080/",
          "height": 216
        },
        "outputId": "e9b9e1cd-0ca5-4512-b50c-0d787d94fbae"
      },
      "source": [
        "spark"
      ],
      "execution_count": 5,
      "outputs": [
        {
          "output_type": "execute_result",
          "data": {
            "text/html": [
              "\n",
              "            <div>\n",
              "                <p><b>SparkSession - in-memory</b></p>\n",
              "                \n",
              "        <div>\n",
              "            <p><b>SparkContext</b></p>\n",
              "\n",
              "            <p><a href=\"http://9b7db14f0aad:4050\">Spark UI</a></p>\n",
              "\n",
              "            <dl>\n",
              "              <dt>Version</dt>\n",
              "                <dd><code>v3.2.0</code></dd>\n",
              "              <dt>Master</dt>\n",
              "                <dd><code>local</code></dd>\n",
              "              <dt>AppName</dt>\n",
              "                <dd><code>Colab</code></dd>\n",
              "            </dl>\n",
              "        </div>\n",
              "        \n",
              "            </div>\n",
              "        "
            ],
            "text/plain": [
              "<pyspark.sql.session.SparkSession at 0x7ff95aa0c710>"
            ]
          },
          "metadata": {},
          "execution_count": 5
        }
      ]
    },
    {
      "cell_type": "code",
      "metadata": {
        "colab": {
          "base_uri": "https://localhost:8080/"
        },
        "id": "AfAHFjgyniit",
        "outputId": "487c1e43-f3aa-4ce3-d29d-f3ed277df921"
      },
      "source": [
        "!wget https://bin.equinox.io/c/4VmDzA7iaHb/ngrok-stable-linux-amd64.zip\n",
        "!unzip ngrok-stable-linux-amd64.zip\n",
        "get_ipython().system_raw('./ngrok http 4050 &')\n",
        "!curl -s http://localhost:4040/api/tunnels"
      ],
      "execution_count": 6,
      "outputs": [
        {
          "output_type": "stream",
          "name": "stdout",
          "text": [
            "--2021-11-16 04:50:30--  https://bin.equinox.io/c/4VmDzA7iaHb/ngrok-stable-linux-amd64.zip\n",
            "Resolving bin.equinox.io (bin.equinox.io)... 18.205.222.128, 54.161.241.46, 54.237.133.81, ...\n",
            "Connecting to bin.equinox.io (bin.equinox.io)|18.205.222.128|:443... connected.\n",
            "HTTP request sent, awaiting response... 200 OK\n",
            "Length: 13832437 (13M) [application/octet-stream]\n",
            "Saving to: ‘ngrok-stable-linux-amd64.zip’\n",
            "\n",
            "ngrok-stable-linux- 100%[===================>]  13.19M  7.84MB/s    in 1.7s    \n",
            "\n",
            "2021-11-16 04:50:31 (7.84 MB/s) - ‘ngrok-stable-linux-amd64.zip’ saved [13832437/13832437]\n",
            "\n",
            "Archive:  ngrok-stable-linux-amd64.zip\n",
            "  inflating: ngrok                   \n",
            "{\"tunnels\":[],\"uri\":\"/api/tunnels\"}\n"
          ]
        }
      ]
    },
    {
      "cell_type": "code",
      "metadata": {
        "colab": {
          "base_uri": "https://localhost:8080/"
        },
        "id": "4DFQb7ymouC1",
        "outputId": "73665161-08de-46aa-e67b-4dd401849c8d"
      },
      "source": [
        "ls drive/MyDrive/spark/Telco-Customer-Churn.csv"
      ],
      "execution_count": 7,
      "outputs": [
        {
          "output_type": "stream",
          "name": "stdout",
          "text": [
            "drive/MyDrive/spark/Telco-Customer-Churn.csv\n"
          ]
        }
      ]
    },
    {
      "cell_type": "code",
      "metadata": {
        "id": "yHzRW7LPGUIe"
      },
      "source": [
        "df = spark.read.csv(\"drive/MyDrive/spark/Telco-Customer-Churn.csv\", header=True, inferSchema=True)"
      ],
      "execution_count": 8,
      "outputs": []
    },
    {
      "cell_type": "code",
      "metadata": {
        "colab": {
          "base_uri": "https://localhost:8080/"
        },
        "id": "WFdFzXrMGj45",
        "outputId": "adefbf71-1536-47c5-8aa0-addfd1c685a2"
      },
      "source": [
        "df.show(5)\n",
        "df.count()"
      ],
      "execution_count": 9,
      "outputs": [
        {
          "output_type": "stream",
          "name": "stdout",
          "text": [
            "+----------+------+-------------+-------+----------+------+------------+----------------+---------------+--------------+------------+----------------+-----------+-----------+---------------+--------------+----------------+--------------------+--------------+------------+-----+\n",
            "|customerID|gender|SeniorCitizen|Partner|Dependents|tenure|PhoneService|   MultipleLines|InternetService|OnlineSecurity|OnlineBackup|DeviceProtection|TechSupport|StreamingTV|StreamingMovies|      Contract|PaperlessBilling|       PaymentMethod|MonthlyCharges|TotalCharges|Churn|\n",
            "+----------+------+-------------+-------+----------+------+------------+----------------+---------------+--------------+------------+----------------+-----------+-----------+---------------+--------------+----------------+--------------------+--------------+------------+-----+\n",
            "|7590-VHVEG|Female|            0|    Yes|        No|     1|          No|No phone service|            DSL|            No|         Yes|              No|         No|         No|             No|Month-to-month|             Yes|    Electronic check|         29.85|       29.85|   No|\n",
            "|5575-GNVDE|  Male|            0|     No|        No|    34|         Yes|              No|            DSL|           Yes|          No|             Yes|         No|         No|             No|      One year|              No|        Mailed check|         56.95|      1889.5|   No|\n",
            "|3668-QPYBK|  Male|            0|     No|        No|     2|         Yes|              No|            DSL|           Yes|         Yes|              No|         No|         No|             No|Month-to-month|             Yes|        Mailed check|         53.85|      108.15|  Yes|\n",
            "|7795-CFOCW|  Male|            0|     No|        No|    45|          No|No phone service|            DSL|           Yes|          No|             Yes|        Yes|         No|             No|      One year|              No|Bank transfer (au...|          42.3|     1840.75|   No|\n",
            "|9237-HQITU|Female|            0|     No|        No|     2|         Yes|              No|    Fiber optic|            No|          No|              No|         No|         No|             No|Month-to-month|             Yes|    Electronic check|          70.7|      151.65|  Yes|\n",
            "+----------+------+-------------+-------+----------+------+------------+----------------+---------------+--------------+------------+----------------+-----------+-----------+---------------+--------------+----------------+--------------------+--------------+------------+-----+\n",
            "only showing top 5 rows\n",
            "\n"
          ]
        },
        {
          "output_type": "execute_result",
          "data": {
            "text/plain": [
              "7043"
            ]
          },
          "metadata": {},
          "execution_count": 9
        }
      ]
    },
    {
      "cell_type": "code",
      "metadata": {
        "colab": {
          "base_uri": "https://localhost:8080/"
        },
        "id": "8mAbTiDsGozh",
        "outputId": "b178b499-23ba-42b7-8c80-25419f0ae88c"
      },
      "source": [
        "df.printSchema()"
      ],
      "execution_count": 10,
      "outputs": [
        {
          "output_type": "stream",
          "name": "stdout",
          "text": [
            "root\n",
            " |-- customerID: string (nullable = true)\n",
            " |-- gender: string (nullable = true)\n",
            " |-- SeniorCitizen: integer (nullable = true)\n",
            " |-- Partner: string (nullable = true)\n",
            " |-- Dependents: string (nullable = true)\n",
            " |-- tenure: integer (nullable = true)\n",
            " |-- PhoneService: string (nullable = true)\n",
            " |-- MultipleLines: string (nullable = true)\n",
            " |-- InternetService: string (nullable = true)\n",
            " |-- OnlineSecurity: string (nullable = true)\n",
            " |-- OnlineBackup: string (nullable = true)\n",
            " |-- DeviceProtection: string (nullable = true)\n",
            " |-- TechSupport: string (nullable = true)\n",
            " |-- StreamingTV: string (nullable = true)\n",
            " |-- StreamingMovies: string (nullable = true)\n",
            " |-- Contract: string (nullable = true)\n",
            " |-- PaperlessBilling: string (nullable = true)\n",
            " |-- PaymentMethod: string (nullable = true)\n",
            " |-- MonthlyCharges: double (nullable = true)\n",
            " |-- TotalCharges: double (nullable = true)\n",
            " |-- Churn: string (nullable = true)\n",
            "\n"
          ]
        }
      ]
    },
    {
      "cell_type": "code",
      "metadata": {
        "colab": {
          "base_uri": "https://localhost:8080/"
        },
        "id": "h36HnGTIHCQC",
        "outputId": "9ead56aa-de58-401d-d833-9dce5b307e09"
      },
      "source": [
        "df.describe().show()"
      ],
      "execution_count": 11,
      "outputs": [
        {
          "output_type": "stream",
          "name": "stdout",
          "text": [
            "+-------+----------+------+------------------+-------+----------+------------------+------------+-------------+---------------+--------------+------------+----------------+-----------+-----------+---------------+--------------+----------------+--------------------+------------------+------------------+-----+\n",
            "|summary|customerID|gender|     SeniorCitizen|Partner|Dependents|            tenure|PhoneService|MultipleLines|InternetService|OnlineSecurity|OnlineBackup|DeviceProtection|TechSupport|StreamingTV|StreamingMovies|      Contract|PaperlessBilling|       PaymentMethod|    MonthlyCharges|      TotalCharges|Churn|\n",
            "+-------+----------+------+------------------+-------+----------+------------------+------------+-------------+---------------+--------------+------------+----------------+-----------+-----------+---------------+--------------+----------------+--------------------+------------------+------------------+-----+\n",
            "|  count|      7043|  7043|              7043|   7043|      7043|              7043|        7043|         7043|           7043|          7043|        7043|            7043|       7043|       7043|           7043|          7043|            7043|                7043|              7043|              7032| 7043|\n",
            "|   mean|      null|  null|0.1621468124378816|   null|      null| 32.37114865824223|        null|         null|           null|          null|        null|            null|       null|       null|           null|          null|            null|                null| 64.76169246059922|2283.3004408418697| null|\n",
            "| stddev|      null|  null|0.3686116056100135|   null|      null|24.559481023094442|        null|         null|           null|          null|        null|            null|       null|       null|           null|          null|            null|                null|30.090047097678482| 2266.771361883145| null|\n",
            "|    min|0002-ORFBO|Female|                 0|     No|        No|                 0|          No|           No|            DSL|            No|          No|              No|         No|         No|             No|Month-to-month|              No|Bank transfer (au...|             18.25|              18.8|   No|\n",
            "|    max|9995-HOTOH|  Male|                 1|    Yes|       Yes|                72|         Yes|          Yes|             No|           Yes|         Yes|             Yes|        Yes|        Yes|            Yes|      Two year|             Yes|        Mailed check|            118.75|            8684.8|  Yes|\n",
            "+-------+----------+------+------------------+-------+----------+------------------+------------+-------------+---------------+--------------+------------+----------------+-----------+-----------+---------------+--------------+----------------+--------------------+------------------+------------------+-----+\n",
            "\n"
          ]
        }
      ]
    },
    {
      "cell_type": "code",
      "metadata": {
        "colab": {
          "base_uri": "https://localhost:8080/"
        },
        "id": "lw6-qh4uHJ3x",
        "outputId": "cdcb98cc-87f3-4881-ecc1-c5eb384a3c41"
      },
      "source": [
        "df1 = df.drop(\"customerID\") \n",
        "df1.printSchema()"
      ],
      "execution_count": 12,
      "outputs": [
        {
          "output_type": "stream",
          "name": "stdout",
          "text": [
            "root\n",
            " |-- gender: string (nullable = true)\n",
            " |-- SeniorCitizen: integer (nullable = true)\n",
            " |-- Partner: string (nullable = true)\n",
            " |-- Dependents: string (nullable = true)\n",
            " |-- tenure: integer (nullable = true)\n",
            " |-- PhoneService: string (nullable = true)\n",
            " |-- MultipleLines: string (nullable = true)\n",
            " |-- InternetService: string (nullable = true)\n",
            " |-- OnlineSecurity: string (nullable = true)\n",
            " |-- OnlineBackup: string (nullable = true)\n",
            " |-- DeviceProtection: string (nullable = true)\n",
            " |-- TechSupport: string (nullable = true)\n",
            " |-- StreamingTV: string (nullable = true)\n",
            " |-- StreamingMovies: string (nullable = true)\n",
            " |-- Contract: string (nullable = true)\n",
            " |-- PaperlessBilling: string (nullable = true)\n",
            " |-- PaymentMethod: string (nullable = true)\n",
            " |-- MonthlyCharges: double (nullable = true)\n",
            " |-- TotalCharges: double (nullable = true)\n",
            " |-- Churn: string (nullable = true)\n",
            "\n"
          ]
        }
      ]
    },
    {
      "cell_type": "code",
      "metadata": {
        "colab": {
          "base_uri": "https://localhost:8080/"
        },
        "id": "DN09WCZDHz0u",
        "outputId": "5f7327fd-a60e-45e6-f617-71a73076fe3d"
      },
      "source": [
        "from pyspark.sql import functions as F\n",
        "df1.select([F.count(F.when(F.isnull(c), c)).alias(c) for c in df1.columns]).show()"
      ],
      "execution_count": 13,
      "outputs": [
        {
          "output_type": "stream",
          "name": "stdout",
          "text": [
            "+------+-------------+-------+----------+------+------------+-------------+---------------+--------------+------------+----------------+-----------+-----------+---------------+--------+----------------+-------------+--------------+------------+-----+\n",
            "|gender|SeniorCitizen|Partner|Dependents|tenure|PhoneService|MultipleLines|InternetService|OnlineSecurity|OnlineBackup|DeviceProtection|TechSupport|StreamingTV|StreamingMovies|Contract|PaperlessBilling|PaymentMethod|MonthlyCharges|TotalCharges|Churn|\n",
            "+------+-------------+-------+----------+------+------------+-------------+---------------+--------------+------------+----------------+-----------+-----------+---------------+--------+----------------+-------------+--------------+------------+-----+\n",
            "|     0|            0|      0|         0|     0|           0|            0|              0|             0|           0|               0|          0|          0|              0|       0|               0|            0|             0|          11|    0|\n",
            "+------+-------------+-------+----------+------+------------+-------------+---------------+--------------+------------+----------------+-----------+-----------+---------------+--------+----------------+-------------+--------------+------------+-----+\n",
            "\n"
          ]
        }
      ]
    },
    {
      "cell_type": "code",
      "metadata": {
        "colab": {
          "base_uri": "https://localhost:8080/"
        },
        "id": "js4jbHcWL2N1",
        "outputId": "8032824e-e95b-486c-dbce-613ee00f0e30"
      },
      "source": [
        " df1.show(5)"
      ],
      "execution_count": 14,
      "outputs": [
        {
          "output_type": "stream",
          "name": "stdout",
          "text": [
            "+------+-------------+-------+----------+------+------------+----------------+---------------+--------------+------------+----------------+-----------+-----------+---------------+--------------+----------------+--------------------+--------------+------------+-----+\n",
            "|gender|SeniorCitizen|Partner|Dependents|tenure|PhoneService|   MultipleLines|InternetService|OnlineSecurity|OnlineBackup|DeviceProtection|TechSupport|StreamingTV|StreamingMovies|      Contract|PaperlessBilling|       PaymentMethod|MonthlyCharges|TotalCharges|Churn|\n",
            "+------+-------------+-------+----------+------+------------+----------------+---------------+--------------+------------+----------------+-----------+-----------+---------------+--------------+----------------+--------------------+--------------+------------+-----+\n",
            "|Female|            0|    Yes|        No|     1|          No|No phone service|            DSL|            No|         Yes|              No|         No|         No|             No|Month-to-month|             Yes|    Electronic check|         29.85|       29.85|   No|\n",
            "|  Male|            0|     No|        No|    34|         Yes|              No|            DSL|           Yes|          No|             Yes|         No|         No|             No|      One year|              No|        Mailed check|         56.95|      1889.5|   No|\n",
            "|  Male|            0|     No|        No|     2|         Yes|              No|            DSL|           Yes|         Yes|              No|         No|         No|             No|Month-to-month|             Yes|        Mailed check|         53.85|      108.15|  Yes|\n",
            "|  Male|            0|     No|        No|    45|          No|No phone service|            DSL|           Yes|          No|             Yes|        Yes|         No|             No|      One year|              No|Bank transfer (au...|          42.3|     1840.75|   No|\n",
            "|Female|            0|     No|        No|     2|         Yes|              No|    Fiber optic|            No|          No|              No|         No|         No|             No|Month-to-month|             Yes|    Electronic check|          70.7|      151.65|  Yes|\n",
            "+------+-------------+-------+----------+------+------------+----------------+---------------+--------------+------------+----------------+-----------+-----------+---------------+--------------+----------------+--------------------+--------------+------------+-----+\n",
            "only showing top 5 rows\n",
            "\n"
          ]
        }
      ]
    },
    {
      "cell_type": "code",
      "metadata": {
        "id": "slC8JEHNQGCD"
      },
      "source": [
        "from pyspark.sql.functions import when, lit"
      ],
      "execution_count": 15,
      "outputs": []
    },
    {
      "cell_type": "code",
      "metadata": {
        "colab": {
          "base_uri": "https://localhost:8080/"
        },
        "id": "LUp0r9VPRRBH",
        "outputId": "233bed3d-36d9-40e5-ae28-15535f3ad8e1"
      },
      "source": [
        "df1.select(\"PaperlessBilling\").distinct().show()"
      ],
      "execution_count": 16,
      "outputs": [
        {
          "output_type": "stream",
          "name": "stdout",
          "text": [
            "+----------------+\n",
            "|PaperlessBilling|\n",
            "+----------------+\n",
            "|              No|\n",
            "|             Yes|\n",
            "+----------------+\n",
            "\n"
          ]
        }
      ]
    },
    {
      "cell_type": "code",
      "metadata": {
        "colab": {
          "base_uri": "https://localhost:8080/"
        },
        "id": "5SJjwrd2RgWv",
        "outputId": "f570ff45-ee93-43eb-9d6d-4136dfd75ba2"
      },
      "source": [
        "df1.printSchema()"
      ],
      "execution_count": 17,
      "outputs": [
        {
          "output_type": "stream",
          "name": "stdout",
          "text": [
            "root\n",
            " |-- gender: string (nullable = true)\n",
            " |-- SeniorCitizen: integer (nullable = true)\n",
            " |-- Partner: string (nullable = true)\n",
            " |-- Dependents: string (nullable = true)\n",
            " |-- tenure: integer (nullable = true)\n",
            " |-- PhoneService: string (nullable = true)\n",
            " |-- MultipleLines: string (nullable = true)\n",
            " |-- InternetService: string (nullable = true)\n",
            " |-- OnlineSecurity: string (nullable = true)\n",
            " |-- OnlineBackup: string (nullable = true)\n",
            " |-- DeviceProtection: string (nullable = true)\n",
            " |-- TechSupport: string (nullable = true)\n",
            " |-- StreamingTV: string (nullable = true)\n",
            " |-- StreamingMovies: string (nullable = true)\n",
            " |-- Contract: string (nullable = true)\n",
            " |-- PaperlessBilling: string (nullable = true)\n",
            " |-- PaymentMethod: string (nullable = true)\n",
            " |-- MonthlyCharges: double (nullable = true)\n",
            " |-- TotalCharges: double (nullable = true)\n",
            " |-- Churn: string (nullable = true)\n",
            "\n"
          ]
        }
      ]
    },
    {
      "cell_type": "code",
      "metadata": {
        "id": "MTQPNKsHRrBW"
      },
      "source": [
        "df1 = df1.withColumn('Partner', when(df1.Partner=='Yes', \n",
        "lit(1)).otherwise(0))\n",
        "df1 = df1.withColumn('DeviceProtection', when(df1.DeviceProtection=='Yes', \n",
        "lit(1)).when(df1.DeviceProtection=='No internet Service',lit(-1)).otherwise(0))\n",
        "df1 = df1.withColumn('gender', when(df1.gender=='Female', \n",
        "lit(1)).otherwise(0))\n",
        "df1 = df1.withColumn('Dependents', when(df1.Dependents=='Yes', \n",
        "lit(1)).otherwise(0))\n",
        "df1 = df1.withColumn('PhoneService', when(df1.PhoneService=='Yes', \n",
        "lit(1)).otherwise(0))\n",
        "df1 = df1.withColumn('MultipleLines', when(df1.MultipleLines=='Yes', \n",
        "lit(1)).when(df1.DeviceProtection=='No phone service',lit(-1)).otherwise(0))\n",
        "df1 = df1.withColumn('InternetService', when(df1.InternetService=='Fiber optic', \n",
        "lit(1)).when(df1.InternetService=='DSL',lit(2)).otherwise(0))\n",
        "df1 = df1.withColumn('OnlineSecurity', when(df1.OnlineSecurity=='Yes', \n",
        "lit(1)).when(df1.OnlineSecurity=='No internet Service',lit(-1)).otherwise(0))\n",
        "df1 = df1.withColumn('OnlineBackup', when(df1.OnlineBackup=='Yes', \n",
        "lit(1)).when(df1.OnlineBackup=='No internet Service',lit(-1)).otherwise(0))\n",
        "df1 = df1.withColumn('TechSupport', when(df1.TechSupport=='Yes', \n",
        "lit(1)).when(df1.TechSupport=='No internet Service',lit(-1)).otherwise(0))\n",
        "df1 = df1.withColumn('Churn', when(df1.Churn=='Yes', \n",
        "lit(1)).otherwise(0))\n",
        "df1 = df1.withColumn('StreamingTV', when(df1.StreamingTV=='Yes', \n",
        "lit(1)).when(df1.StreamingTV=='No internet Service',lit(-1)).otherwise(0))\n",
        "df1 = df1.withColumn('StreamingMovies', when(df1.StreamingMovies=='Yes', \n",
        "lit(1)).when(df1.StreamingMovies=='No internet Service',lit(-1)).otherwise(0))\n",
        "df1 = df1.withColumn('PaperlessBilling', when(df1.PaperlessBilling=='Yes', \n",
        "lit(1)).otherwise(0))\n",
        "df1 = df1.withColumn('Contract', when(df1.Contract=='Month-to-month', \n",
        "lit(0)).when(df1.Contract=='One year',lit(1)).otherwise(2))\n"
      ],
      "execution_count": 18,
      "outputs": []
    },
    {
      "cell_type": "code",
      "metadata": {
        "id": "eolecBIJ7oNA"
      },
      "source": [
        "from pyspark.sql.functions import mean as _mean, stddev as _stddev, col\n",
        "\n",
        "df_stats = df.select(\n",
        "    _mean(col('TotalCharges')).alias('mean')\n",
        ").collect()\n",
        "\n",
        "mean = df_stats[0]['mean']\n",
        "df1 = df1.na.fill(value=mean)"
      ],
      "execution_count": 19,
      "outputs": []
    },
    {
      "cell_type": "code",
      "metadata": {
        "colab": {
          "base_uri": "https://localhost:8080/"
        },
        "id": "8yky3bOWsWV7",
        "outputId": "7c2a36d5-2be9-46fd-d146-3f40fabb3fd7"
      },
      "source": [
        "df1.select([F.count(F.when(F.isnull(c), c)).alias(c) for c in df1.columns]).show()"
      ],
      "execution_count": 20,
      "outputs": [
        {
          "output_type": "stream",
          "name": "stdout",
          "text": [
            "+------+-------------+-------+----------+------+------------+-------------+---------------+--------------+------------+----------------+-----------+-----------+---------------+--------+----------------+-------------+--------------+------------+-----+\n",
            "|gender|SeniorCitizen|Partner|Dependents|tenure|PhoneService|MultipleLines|InternetService|OnlineSecurity|OnlineBackup|DeviceProtection|TechSupport|StreamingTV|StreamingMovies|Contract|PaperlessBilling|PaymentMethod|MonthlyCharges|TotalCharges|Churn|\n",
            "+------+-------------+-------+----------+------+------------+-------------+---------------+--------------+------------+----------------+-----------+-----------+---------------+--------+----------------+-------------+--------------+------------+-----+\n",
            "|     0|            0|      0|         0|     0|           0|            0|              0|             0|           0|               0|          0|          0|              0|       0|               0|            0|             0|           0|    0|\n",
            "+------+-------------+-------+----------+------+------------+-------------+---------------+--------------+------------+----------------+-----------+-----------+---------------+--------+----------------+-------------+--------------+------------+-----+\n",
            "\n"
          ]
        }
      ]
    },
    {
      "cell_type": "code",
      "metadata": {
        "colab": {
          "base_uri": "https://localhost:8080/"
        },
        "id": "NYBi6esASgvZ",
        "outputId": "a5a4b351-12a4-4fa2-d9c3-573f86d2177d"
      },
      "source": [
        "df1.show(5)"
      ],
      "execution_count": 21,
      "outputs": [
        {
          "output_type": "stream",
          "name": "stdout",
          "text": [
            "+------+-------------+-------+----------+------+------------+-------------+---------------+--------------+------------+----------------+-----------+-----------+---------------+--------+----------------+--------------------+--------------+------------+-----+\n",
            "|gender|SeniorCitizen|Partner|Dependents|tenure|PhoneService|MultipleLines|InternetService|OnlineSecurity|OnlineBackup|DeviceProtection|TechSupport|StreamingTV|StreamingMovies|Contract|PaperlessBilling|       PaymentMethod|MonthlyCharges|TotalCharges|Churn|\n",
            "+------+-------------+-------+----------+------+------------+-------------+---------------+--------------+------------+----------------+-----------+-----------+---------------+--------+----------------+--------------------+--------------+------------+-----+\n",
            "|     1|            0|      1|         0|     1|           0|            0|              2|             0|           1|               0|          0|          0|              0|       0|               1|    Electronic check|         29.85|       29.85|    0|\n",
            "|     0|            0|      0|         0|    34|           1|            0|              2|             1|           0|               1|          0|          0|              0|       1|               0|        Mailed check|         56.95|      1889.5|    0|\n",
            "|     0|            0|      0|         0|     2|           1|            0|              2|             1|           1|               0|          0|          0|              0|       0|               1|        Mailed check|         53.85|      108.15|    1|\n",
            "|     0|            0|      0|         0|    45|           0|            0|              2|             1|           0|               1|          1|          0|              0|       1|               0|Bank transfer (au...|          42.3|     1840.75|    0|\n",
            "|     1|            0|      0|         0|     2|           1|            0|              1|             0|           0|               0|          0|          0|              0|       0|               1|    Electronic check|          70.7|      151.65|    1|\n",
            "+------+-------------+-------+----------+------+------------+-------------+---------------+--------------+------------+----------------+-----------+-----------+---------------+--------+----------------+--------------------+--------------+------------+-----+\n",
            "only showing top 5 rows\n",
            "\n"
          ]
        }
      ]
    },
    {
      "cell_type": "code",
      "metadata": {
        "colab": {
          "base_uri": "https://localhost:8080/"
        },
        "id": "LJrZJcPkSjZd",
        "outputId": "933535a1-8092-4c9d-fe4d-42e26a7d841a"
      },
      "source": [
        "df1.describe().show()"
      ],
      "execution_count": 22,
      "outputs": [
        {
          "output_type": "stream",
          "name": "stdout",
          "text": [
            "+-------+------------------+------------------+-------------------+------------------+------------------+-------------------+-------------------+------------------+------------------+------------------+-------------------+------------------+-------------------+------------------+------------------+------------------+--------------------+------------------+------------------+-------------------+\n",
            "|summary|            gender|     SeniorCitizen|            Partner|        Dependents|            tenure|       PhoneService|      MultipleLines|   InternetService|    OnlineSecurity|      OnlineBackup|   DeviceProtection|       TechSupport|        StreamingTV|   StreamingMovies|          Contract|  PaperlessBilling|       PaymentMethod|    MonthlyCharges|      TotalCharges|              Churn|\n",
            "+-------+------------------+------------------+-------------------+------------------+------------------+-------------------+-------------------+------------------+------------------+------------------+-------------------+------------------+-------------------+------------------+------------------+------------------+--------------------+------------------+------------------+-------------------+\n",
            "|  count|              7043|              7043|               7043|              7043|              7043|               7043|               7043|              7043|              7043|              7043|               7043|              7043|               7043|              7043|              7043|              7043|                7043|              7043|              7043|               7043|\n",
            "|   mean| 0.495243504188556|0.1621468124378816| 0.4830327985233565|0.2995882436461735| 32.37114865824223| 0.9031662643759761|0.42183728524776376|1.1270765298878318|0.2866676132329973|0.3448814425670879| 0.3438875479199205|0.2902172369728809|0.38435325855459324|0.3879028822944768|0.6904728098821525|0.5922192247621753|                null| 64.76169246059922|2283.3004408418697| 0.2653698707936959|\n",
            "| stddev|0.5000128736471522|0.3686116056100135|0.49974751071998735|0.4581101675100144|24.559481023094442|0.29575223178363513|0.49388786554556857|0.7377963405848559|0.4522370299757109|0.4753633531563784|0.47503783298083624|0.4538947500677702| 0.4864765495589309|0.4873068366824568|0.8337552328756332|0.4914569240494065|                null|30.090047097678482|2265.0002578033286|0.44156130512194697|\n",
            "|    min|                 0|                 0|                  0|                 0|                 0|                  0|                  0|                 0|                 0|                 0|                  0|                 0|                  0|                 0|                 0|                 0|Bank transfer (au...|             18.25|              18.8|                  0|\n",
            "|    max|                 1|                 1|                  1|                 1|                72|                  1|                  1|                 2|                 1|                 1|                  1|                 1|                  1|                 1|                 2|                 1|        Mailed check|            118.75|            8684.8|                  1|\n",
            "+-------+------------------+------------------+-------------------+------------------+------------------+-------------------+-------------------+------------------+------------------+------------------+-------------------+------------------+-------------------+------------------+------------------+------------------+--------------------+------------------+------------------+-------------------+\n",
            "\n"
          ]
        }
      ]
    },
    {
      "cell_type": "code",
      "metadata": {
        "id": "RqtSDAN9TWHW"
      },
      "source": [
        "x = df1.drop('customerID','PhoneService','OnlineBackup','TechSupport','DeviceProtection','StreamingMovies','PaymentMethod','Dependents')\n",
        "#y = df1.select('Churn')"
      ],
      "execution_count": 60,
      "outputs": []
    },
    {
      "cell_type": "code",
      "metadata": {
        "colab": {
          "base_uri": "https://localhost:8080/"
        },
        "id": "yfhyYwWV41w2",
        "outputId": "b9e95a3b-2a8f-4626-980a-2bcff57dee7f"
      },
      "source": [
        "x.columns"
      ],
      "execution_count": 42,
      "outputs": [
        {
          "output_type": "execute_result",
          "data": {
            "text/plain": [
              "['gender',\n",
              " 'SeniorCitizen',\n",
              " 'Partner',\n",
              " 'tenure',\n",
              " 'MultipleLines',\n",
              " 'InternetService',\n",
              " 'OnlineSecurity',\n",
              " 'StreamingTV',\n",
              " 'Contract',\n",
              " 'PaperlessBilling',\n",
              " 'MonthlyCharges',\n",
              " 'TotalCharges',\n",
              " 'Churn']"
            ]
          },
          "metadata": {},
          "execution_count": 42
        }
      ]
    },
    {
      "cell_type": "code",
      "metadata": {
        "id": "HxxgXRDZVsCu"
      },
      "source": [
        "from pyspark.sql.types import IntegerType\n",
        "df1 = df1.withColumn(\"TotalCharges\", df1[\"TotalCharges\"].cast(IntegerType()))"
      ],
      "execution_count": 61,
      "outputs": []
    },
    {
      "cell_type": "code",
      "metadata": {
        "colab": {
          "base_uri": "https://localhost:8080/"
        },
        "id": "_u4NA2hzoiDB",
        "outputId": "6883a90a-4102-4ace-fd27-d315e8a68003"
      },
      "source": [
        "x.printSchema()"
      ],
      "execution_count": 44,
      "outputs": [
        {
          "output_type": "stream",
          "name": "stdout",
          "text": [
            "root\n",
            " |-- gender: integer (nullable = false)\n",
            " |-- SeniorCitizen: integer (nullable = true)\n",
            " |-- Partner: integer (nullable = false)\n",
            " |-- tenure: integer (nullable = true)\n",
            " |-- MultipleLines: integer (nullable = false)\n",
            " |-- InternetService: integer (nullable = false)\n",
            " |-- OnlineSecurity: integer (nullable = false)\n",
            " |-- StreamingTV: integer (nullable = false)\n",
            " |-- Contract: integer (nullable = false)\n",
            " |-- PaperlessBilling: integer (nullable = false)\n",
            " |-- MonthlyCharges: double (nullable = false)\n",
            " |-- TotalCharges: integer (nullable = true)\n",
            " |-- Churn: integer (nullable = false)\n",
            "\n"
          ]
        }
      ]
    },
    {
      "cell_type": "code",
      "metadata": {
        "id": "LDzbIPJrsb9y"
      },
      "source": [
        "from pyspark.ml.feature import StringIndexer, OneHotEncoder, VectorAssembler\n",
        "from pyspark.ml.feature import MinMaxScaler\n"
      ],
      "execution_count": 45,
      "outputs": []
    },
    {
      "cell_type": "code",
      "metadata": {
        "id": "oq96wvR7rGIJ"
      },
      "source": [
        "feature_names = ['gender',\n",
        " 'SeniorCitizen',\n",
        " 'Partner',\n",
        " 'tenure',\n",
        " 'MultipleLines',\n",
        " 'InternetService',\n",
        " 'OnlineSecurity',\n",
        " 'StreamingTV',\n",
        " 'Contract',\n",
        " 'PaperlessBilling',\n",
        " 'MonthlyCharges',\n",
        " 'TotalCharges']\n",
        "assembler = VectorAssembler(inputCols=feature_names, outputCol=\"features\")\n",
        "scalar = MinMaxScaler(inputCol=\"features \", outputCol=\"Churn\")\n",
        "x = assembler.transform(x)"
      ],
      "execution_count": 69,
      "outputs": []
    },
    {
      "cell_type": "code",
      "metadata": {
        "id": "53jDQ2kruJlR"
      },
      "source": [
        "from pyspark.ml.tuning import TrainValidationSplit, ParamGridBuilder, CrossValidator\n",
        "from pyspark.ml.evaluation import RegressionEvaluator, BinaryClassificationEvaluator\n"
      ],
      "execution_count": 47,
      "outputs": []
    },
    {
      "cell_type": "code",
      "metadata": {
        "id": "C_8lbEThsUE8"
      },
      "source": [
        "from pyspark.ml.classification import LogisticRegression\n"
      ],
      "execution_count": 48,
      "outputs": []
    },
    {
      "cell_type": "code",
      "metadata": {
        "id": "19hMSr4lv23Z"
      },
      "source": [
        "train, test = x.randomSplit([0.8, 0.2], seed = 2018)\n",
        "#train_y, test_y = y.randomSplit([0.8, 0.2], seed = 2018)"
      ],
      "execution_count": 70,
      "outputs": []
    },
    {
      "cell_type": "code",
      "metadata": {
        "id": "CEtz7da4SIdb"
      },
      "source": [
        "lr = LogisticRegression(maxIter=1000, labelCol='Churn')"
      ],
      "execution_count": 71,
      "outputs": []
    },
    {
      "cell_type": "code",
      "metadata": {
        "id": "qYZqACTNSMxa"
      },
      "source": [
        "model = lr.fit(train)"
      ],
      "execution_count": 72,
      "outputs": []
    },
    {
      "cell_type": "code",
      "metadata": {
        "id": "0KlU8z7oSj0Z"
      },
      "source": [
        "from pyspark.ml import Pipeline \n",
        "pipeline = Pipeline(stages = [lr])"
      ],
      "execution_count": 73,
      "outputs": []
    },
    {
      "cell_type": "code",
      "metadata": {
        "id": "v9Xw2cLdzJNo"
      },
      "source": [
        "paramGrid = ParamGridBuilder().addGrid(lr.regParam, [.1, .01]).build()"
      ],
      "execution_count": 74,
      "outputs": []
    },
    {
      "cell_type": "code",
      "metadata": {
        "id": "nUYYg1dFz9Ww"
      },
      "source": [
        "val = CrossValidator(estimator=pipeline, estimatorParamMaps=BinaryClassificationEvaluator(), numFolds = 2)"
      ],
      "execution_count": 75,
      "outputs": []
    },
    {
      "cell_type": "code",
      "metadata": {
        "id": "Ef4NHf7w12jV"
      },
      "source": [
        "prediction = model.transform(test)"
      ],
      "execution_count": 76,
      "outputs": []
    },
    {
      "cell_type": "code",
      "metadata": {
        "id": "n4QxqFHV0N0I"
      },
      "source": [
        "evaluator = BinaryClassificationEvaluator(labelCol='Churn')\n"
      ],
      "execution_count": 77,
      "outputs": []
    },
    {
      "cell_type": "code",
      "metadata": {
        "colab": {
          "base_uri": "https://localhost:8080/"
        },
        "id": "8I6KTu080QpR",
        "outputId": "ea25e7c4-bed4-4147-f261-41252baef4f1"
      },
      "source": [
        "print(evaluator.evaluate(prediction))"
      ],
      "execution_count": 78,
      "outputs": [
        {
          "output_type": "stream",
          "name": "stdout",
          "text": [
            "0.8392776149123222\n"
          ]
        }
      ]
    },
    {
      "cell_type": "code",
      "metadata": {
        "colab": {
          "base_uri": "https://localhost:8080/"
        },
        "id": "nZdDDENc2eMK",
        "outputId": "cc382889-272e-46d0-e6b1-1a9671edb736"
      },
      "source": [
        "prediction.select('Churn','prediction', 'probability').show(20)"
      ],
      "execution_count": 79,
      "outputs": [
        {
          "output_type": "stream",
          "name": "stdout",
          "text": [
            "+-----+----------+--------------------+\n",
            "|Churn|prediction|         probability|\n",
            "+-----+----------+--------------------+\n",
            "|    0|       0.0|[0.91150632199829...|\n",
            "|    0|       0.0|[0.75844312893352...|\n",
            "|    0|       0.0|[0.75795001100921...|\n",
            "|    0|       0.0|[0.75762088529434...|\n",
            "|    0|       0.0|[0.75729145535872...|\n",
            "|    0|       0.0|[0.75696172131074...|\n",
            "|    1|       0.0|[0.75679674027879...|\n",
            "|    0|       0.0|[0.75591958389235...|\n",
            "|    0|       0.0|[0.75591958389235...|\n",
            "|    1|       0.0|[0.75591958389235...|\n",
            "|    1|       0.0|[0.75558858759577...|\n",
            "|    0|       0.0|[0.75542297561462...|\n",
            "|    1|       0.0|[0.75525728776409...|\n",
            "|    1|       0.0|[0.67905411502129...|\n",
            "|    1|       0.0|[0.67723243731212...|\n",
            "|    0|       0.0|[0.67585905020409...|\n",
            "|    0|       0.0|[0.67546609570533...|\n",
            "|    1|       0.0|[0.67402794295140...|\n",
            "|    1|       0.0|[0.67402794295140...|\n",
            "|    1|       0.0|[0.67363384055183...|\n",
            "+-----+----------+--------------------+\n",
            "only showing top 20 rows\n",
            "\n"
          ]
        }
      ]
    },
    {
      "cell_type": "code",
      "metadata": {
        "id": "IsrLxkxC3krh"
      },
      "source": [
        ""
      ],
      "execution_count": null,
      "outputs": []
    }
  ]
}